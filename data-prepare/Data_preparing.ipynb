{
 "cells": [
  {
   "cell_type": "code",
   "execution_count": 1,
   "id": "af1d0818",
   "metadata": {},
   "outputs": [],
   "source": [
    "import os\n",
    "import csv\n",
    "import shutil"
   ]
  },
  {
   "cell_type": "code",
   "execution_count": 6,
   "id": "4d52a2ea",
   "metadata": {},
   "outputs": [
    {
     "data": {
      "text/plain": [
       "'/Users/yanlinwu/cs7643/project/cs74643-project/data-prepare'"
      ]
     },
     "execution_count": 6,
     "metadata": {},
     "output_type": "execute_result"
    }
   ],
   "source": [
    "os.getcwd()"
   ]
  },
  {
   "cell_type": "code",
   "execution_count": 2,
   "id": "db35f9ae",
   "metadata": {},
   "outputs": [],
   "source": [
    "rate = {}\n",
    "char = {}\n",
    "count = {}\n",
    "char_id = {}\n",
    "k = 500\n",
    "limit = 200"
   ]
  },
  {
   "cell_type": "code",
   "execution_count": 3,
   "id": "cc898a90",
   "metadata": {},
   "outputs": [],
   "source": [
    "with open('rate.csv') as csv_file:\n",
    "    csv_reader = csv.reader(csv_file, delimiter=',')\n",
    "    for row in csv_reader:\n",
    "        rate[int(row[0])] = float(row[4])\n",
    "        char[int(row[0])] = row[1]\n",
    "        count[int(row[0])] = int(float(row[4]) * k)\n",
    "        char_id[row[1]] = int(row[0])"
   ]
  },
  {
   "cell_type": "code",
   "execution_count": 5,
   "id": "f9993483",
   "metadata": {},
   "outputs": [],
   "source": [
    "char_list = [x for x in [char[i] for i in range(1, limit+1)]]\n",
    "rate_list = [x for x in [rate[i] for i in range(1, limit+1)]]\n",
    "count_list = [x for x in [count[i] for i in range(1, limit+1)]]\n",
    "char_set = set(char_list)"
   ]
  },
  {
   "cell_type": "code",
   "execution_count": 7,
   "id": "ff27d3d6",
   "metadata": {},
   "outputs": [
    {
     "name": "stdout",
     "output_type": "stream",
     "text": [
      "的\n",
      "一\n"
     ]
    }
   ],
   "source": [
    "if \"train\" in os.listdir(os.getcwd()):\n",
    "    shutil.rmtree(\"train\")\n",
    "os.mkdir(\"train\")\n",
    "\n",
    "raw_train_data_dir = os.getcwd() + \"/archive/CASIA-HWDB_Train/Train\"\n",
    "\n",
    "files = os.listdir(raw_train_data_dir)\n",
    "\n",
    "current_data_count = {}\n",
    "\n",
    "for f in files:\n",
    "    if f in char_set:\n",
    "        idx = char_id[f]\n",
    "        l = len(os.listdir(raw_train_data_dir + \"/\" + f))\n",
    "        current_data_count[idx] = l\n",
    "#         shutil.copytree(raw_train_data_dir + \"/\" + f, os.getcwd() + \"/train/\" + f)\n",
    "\n",
    "for i in range(1, limit + 1):\n",
    "    c = count[i]\n",
    "    if c > current_data_count[i]:\n",
    "        print(char[i])"
   ]
  }
 ],
 "metadata": {
  "kernelspec": {
   "display_name": "Python 3 (ipykernel)",
   "language": "python",
   "name": "python3"
  },
  "language_info": {
   "codemirror_mode": {
    "name": "ipython",
    "version": 3
   },
   "file_extension": ".py",
   "mimetype": "text/x-python",
   "name": "python",
   "nbconvert_exporter": "python",
   "pygments_lexer": "ipython3",
   "version": "3.9.12"
  }
 },
 "nbformat": 4,
 "nbformat_minor": 5
}
